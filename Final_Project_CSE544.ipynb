{
  "nbformat": 4,
  "nbformat_minor": 0,
  "metadata": {
    "colab": {
      "name": "Final_Project_CSE544.ipynb",
      "provenance": [],
      "collapsed_sections": [
        "UJFTAmQPASaN",
        "VPVzuQj0qi_L",
        "dhbNOkF9GBe7"
      ],
      "toc_visible": true
    },
    "kernelspec": {
      "name": "python3",
      "display_name": "Python 3"
    },
    "language_info": {
      "name": "python"
    }
  },
  "cells": [
    {
      "cell_type": "markdown",
      "source": [
        "# Preparation"
      ],
      "metadata": {
        "id": "z9t7UegvBKz_"
      }
    },
    {
      "cell_type": "code",
      "source": [
        "# Download the dataset\n",
        "!gdown 1oHjJxZom4-Ru5pOnjWK6hUBFkK4kRqSt\n",
        "!gdown 1lEXEmsEOHZWs5wTkyEFwiRMjmVqgXEjj"
      ],
      "metadata": {
        "colab": {
          "base_uri": "https://localhost:8080/"
        },
        "id": "4VtaCxUEHCT4",
        "outputId": "5ebc5fe3-9612-4473-c0f3-2c605ceea532"
      },
      "execution_count": 379,
      "outputs": [
        {
          "output_type": "stream",
          "name": "stdout",
          "text": [
            "Downloading...\n",
            "From: https://drive.google.com/uc?id=1oHjJxZom4-Ru5pOnjWK6hUBFkK4kRqSt\n",
            "To: /content/COVID-19_Vaccinations_in_the_United_States_Jurisdiction.csv\n",
            "100% 13.2M/13.2M [00:00<00:00, 122MB/s]\n",
            "Downloading...\n",
            "From: https://drive.google.com/uc?id=1lEXEmsEOHZWs5wTkyEFwiRMjmVqgXEjj\n",
            "To: /content/United_States_COVID-19_Cases_and_Deaths_by_State_over_Time.csv\n",
            "100% 4.22M/4.22M [00:00<00:00, 115MB/s]\n"
          ]
        }
      ]
    },
    {
      "cell_type": "code",
      "source": [
        "import pandas as pd\n",
        "import numpy as np\n",
        "import scipy.stats as st\n",
        "import matplotlib.pyplot as plt"
      ],
      "metadata": {
        "id": "UlWE6QRtHCaf"
      },
      "execution_count": 380,
      "outputs": []
    },
    {
      "cell_type": "code",
      "source": [
        "vaccination_df = pd.read_csv('COVID-19_Vaccinations_in_the_United_States_Jurisdiction.csv')\n",
        "case_df = pd.read_csv('United_States_COVID-19_Cases_and_Deaths_by_State_over_Time.csv')\n",
        "# convert date in csv into datetime object\n",
        "vaccination_df['Date'] = pd.to_datetime(vaccination_df['Date'])\n",
        "case_df['submission_date'] = pd.to_datetime(case_df['submission_date'])\n",
        "\n",
        "# extract and sort the sample data \n",
        "vac_co_df = vaccination_df.loc[vaccination_df['Location'] == 'CO'].sort_values('Date')\n",
        "vac_ar_df = vaccination_df.loc[vaccination_df['Location'] == 'AR'].sort_values('Date')\n",
        "case_co_df = case_df.loc[case_df['state'] == 'CO'].sort_values('submission_date')\n",
        "case_ar_df = case_df.loc[case_df['state'] == 'AR'].sort_values('submission_date')"
      ],
      "metadata": {
        "id": "BVvd8s8iHCd0"
      },
      "execution_count": 381,
      "outputs": []
    },
    {
      "cell_type": "code",
      "source": [
        "# calculate daily stats of cases dataset\n",
        "case_co_df['daily_cases'] = case_co_df['tot_cases'].diff()\n",
        "case_co_df['daily_death'] = case_co_df['tot_death'].diff()\n",
        "case_ar_df['daily_cases'] = case_ar_df['tot_cases'].diff()\n",
        "case_ar_df['daily_death'] = case_ar_df['tot_death'].diff()\n",
        "\n",
        "# rest index of each dataframe\n",
        "num_case_co = case_co_df[['submission_date', 'daily_cases']]\n",
        "num_case_co= num_case_co.reset_index(drop=True)\n",
        "\n",
        "num_death_co = case_co_df[['submission_date', 'daily_death']]\n",
        "num_death_co= num_death_co.reset_index(drop=True)\n",
        "\n",
        "num_case_ar = case_ar_df[['submission_date', 'daily_cases']]\n",
        "num_case_ar= num_case_ar.reset_index(drop=True)\n",
        "\n",
        "num_death_ar = case_ar_df[['submission_date', 'daily_death']]\n",
        "num_death_ar= num_death_ar.reset_index(drop=True)\n",
        "\n",
        "# set daily stats of first day to 0\n",
        "num_case_co.loc[0:1,'daily_cases'] = 0.0\n",
        "num_death_co.loc[0:1,'daily_death'] = 0.0\n",
        "num_case_ar.loc[0:1,'daily_cases'] = 0.0\n",
        "num_death_ar.loc[0:1,'daily_death'] = 0.0"
      ],
      "metadata": {
        "id": "munZe56doWaz"
      },
      "execution_count": 382,
      "outputs": []
    },
    {
      "cell_type": "markdown",
      "source": [
        "#Data cleaning and Outlier Detection"
      ],
      "metadata": {
        "id": "KP2mu7eOi0JS"
      }
    },
    {
      "cell_type": "code",
      "source": [
        "def clean_data(data, col):\n",
        "  #using Tukeys Rule to find outlier of data in target states\n",
        "\n",
        "  # Find the quartiles\n",
        "  n = len(data)\n",
        "  q1 = np.percentile(data[col], 25)\n",
        "  q3 = np.percentile(data[col], 75)\n",
        "\n",
        "  # Create the outlier boundaries\n",
        "  IQR = q3-q1\n",
        "  upperBound = q3 + 1.5*IQR\n",
        "  lowerBound = q1 - 1.5*IQR\n",
        "  df = data.loc[(data[col] <= upperBound) & (data[col]>= lowerBound) | (data[col]==0)]\n",
        "  \n",
        "  print('Lowerbound of Tukey\\'s Rule:', lowerBound)\n",
        "  print('Upperbound of Tukey\\'s Rule:', upperBound)\n",
        "  print('Number of outliers found in this dataset', n-len(df))\n",
        "  return df"
      ],
      "metadata": {
        "id": "-pUkOOe0q8K1"
      },
      "execution_count": 383,
      "outputs": []
    },
    {
      "cell_type": "markdown",
      "source": [
        "## Clean Cases Data\n"
      ],
      "metadata": {
        "id": "j9JTURJJ_0c5"
      }
    },
    {
      "cell_type": "code",
      "source": [
        "print('Cleaning dataset of daily cases in Colorado')\n",
        "num_case_co_cleaned = clean_data(num_case_co, 'daily_cases')"
      ],
      "metadata": {
        "colab": {
          "base_uri": "https://localhost:8080/"
        },
        "id": "5IHeYvtEC5qY",
        "outputId": "fb497f16-b76c-409f-d922-eb807f09969b"
      },
      "execution_count": 384,
      "outputs": [
        {
          "output_type": "stream",
          "name": "stdout",
          "text": [
            "Cleaning dataset of daily cases in Colorado\n",
            "Lowerbound of Tukey's Rule: -1971.75\n",
            "Upperbound of Tukey's Rule: 4264.25\n",
            "Number of outliers found in this dataset 64\n"
          ]
        }
      ]
    },
    {
      "cell_type": "code",
      "source": [
        "print('Cleaning dataset of daily death in Colorado')\n",
        "num_death_co_cleaned = clean_data(num_death_co, 'daily_death')"
      ],
      "metadata": {
        "colab": {
          "base_uri": "https://localhost:8080/"
        },
        "id": "1GoQhPv9C5jY",
        "outputId": "fcb9d50a-5681-4edb-d7d0-1420265d8520"
      },
      "execution_count": 385,
      "outputs": [
        {
          "output_type": "stream",
          "name": "stdout",
          "text": [
            "Cleaning dataset of daily death in Colorado\n",
            "Lowerbound of Tukey's Rule: -22.0\n",
            "Upperbound of Tukey's Rule: 42.0\n",
            "Number of outliers found in this dataset 74\n"
          ]
        }
      ]
    },
    {
      "cell_type": "code",
      "source": [
        "print('Cleaning dataset of daily cases in Arkansas')\n",
        "num_case_ar_cleaned = clean_data(num_case_ar, 'daily_cases')"
      ],
      "metadata": {
        "colab": {
          "base_uri": "https://localhost:8080/"
        },
        "id": "47g65TsCC5Zc",
        "outputId": "754fa764-97ab-4d43-a1f5-0d708c5c9ac5"
      },
      "execution_count": 386,
      "outputs": [
        {
          "output_type": "stream",
          "name": "stdout",
          "text": [
            "Cleaning dataset of daily cases in Arkansas\n",
            "Lowerbound of Tukey's Rule: -1224.125\n",
            "Upperbound of Tukey's Rule: 2520.875\n",
            "Number of outliers found in this dataset 73\n"
          ]
        }
      ]
    },
    {
      "cell_type": "code",
      "source": [
        "print('Cleaning dataset of daily death in Arkansas')\n",
        "num_death_ar_cleaned = clean_data(num_death_ar, 'daily_death')"
      ],
      "metadata": {
        "colab": {
          "base_uri": "https://localhost:8080/"
        },
        "id": "J5aaB4iGC89B",
        "outputId": "d59a5fd9-a219-45d4-aec4-72fc6b633559"
      },
      "execution_count": 387,
      "outputs": [
        {
          "output_type": "stream",
          "name": "stdout",
          "text": [
            "Cleaning dataset of daily death in Arkansas\n",
            "Lowerbound of Tukey's Rule: -25.0\n",
            "Upperbound of Tukey's Rule: 47.0\n",
            "Number of outliers found in this dataset 22\n"
          ]
        }
      ]
    },
    {
      "cell_type": "markdown",
      "source": [
        "## Clean Vaccination Data"
      ],
      "metadata": {
        "id": "JRd3eSCI_zNr"
      }
    },
    {
      "cell_type": "code",
      "source": [
        "# calculate daily vaccine administered\n",
        "vac_co_df['Daily Administered'] = vac_co_df['Administered'].diff()\n",
        "vac_ar_df['Daily Administered'] = vac_ar_df['Administered'].diff()\n",
        "\n",
        "vac_co_df= vac_co_df.reset_index(drop=True)\n",
        "vac_ar_df= vac_ar_df.reset_index(drop=True)\n",
        "\n",
        "# extract target column from dataset\n",
        "vac_co_df = vac_co_df[['Date', 'Daily Administered']]\n",
        "vac_ar_df = vac_ar_df[['Date', 'Daily Administered']]\n",
        "\n",
        "# set daily stats of first day to 0\n",
        "vac_co_df.loc[0:1,'Daily Administered'] = 0.0\n",
        "vac_ar_df.loc[0:1,'Daily Administered'] = 0.0"
      ],
      "metadata": {
        "id": "sWuvmV-E-0y7"
      },
      "execution_count": 388,
      "outputs": []
    },
    {
      "cell_type": "code",
      "source": [
        "print('Clean Dataset of daily vaccine adminstered in Colorado.')\n",
        "vac_co_cleaned = clean_data(vac_co_df, 'Daily Administered')"
      ],
      "metadata": {
        "colab": {
          "base_uri": "https://localhost:8080/"
        },
        "id": "ABVF_mD2JUig",
        "outputId": "b562cfd1-a5e6-4fdd-ab57-9c1ef4eaac32"
      },
      "execution_count": 389,
      "outputs": [
        {
          "output_type": "stream",
          "name": "stdout",
          "text": [
            "Clean Dataset of daily vaccine adminstered in Colorado.\n",
            "Lowerbound of Tukey's Rule: -26358.25\n",
            "Upperbound of Tukey's Rule: 64007.75\n",
            "Number of outliers found in this dataset 17\n"
          ]
        }
      ]
    },
    {
      "cell_type": "code",
      "source": [
        "print('Clean Dataset of daily vaccine adminstered in Arkansas.')\n",
        "vac_ar_cleaned = clean_data(vac_ar_df, 'Daily Administered')"
      ],
      "metadata": {
        "colab": {
          "base_uri": "https://localhost:8080/"
        },
        "id": "zgXwq69-Jj8Z",
        "outputId": "aec88f14-0f50-4763-8b4d-1adb56ff8298"
      },
      "execution_count": 390,
      "outputs": [
        {
          "output_type": "stream",
          "name": "stdout",
          "text": [
            "Clean Dataset of daily vaccine adminstered in Arkansas.\n",
            "Lowerbound of Tukey's Rule: -11451.0\n",
            "Upperbound of Tukey's Rule: 25725.0\n",
            "Number of outliers found in this dataset 25\n"
          ]
        }
      ]
    },
    {
      "cell_type": "markdown",
      "source": [
        "## Conclusion\n",
        "\n",
        "Overall, there is no missing value found in the targe column of cases and vaccination dataset. "
      ],
      "metadata": {
        "id": "UJFTAmQPASaN"
      }
    },
    {
      "cell_type": "markdown",
      "source": [
        "# Mandatory Part\n"
      ],
      "metadata": {
        "id": "CPei_nG09hT8"
      }
    },
    {
      "cell_type": "markdown",
      "source": [
        "## Part A"
      ],
      "metadata": {
        "id": "Xamt0XaMr7dq"
      }
    },
    {
      "cell_type": "code",
      "source": [
        "# Extract Feb and Mar 21 data for CO\n",
        "case_feb_co = num_case_co_cleaned[(num_case_co_cleaned['submission_date'] >= '2021-02-01')& (num_case_co_cleaned['submission_date'] < '2021-03-01')]['daily_cases']\n",
        "death_feb_co = num_death_co_cleaned[(num_death_co_cleaned['submission_date'] >= '2021-02-01')& (num_death_co_cleaned['submission_date'] < '2021-03-01')]['daily_death']\n",
        "\n",
        "case_mar_co = num_case_co_cleaned[(num_case_co_cleaned['submission_date'] >= '2021-03-01')& (num_case_co_cleaned['submission_date'] < '2021-04-01')]['daily_cases']\n",
        "death_mar_co = num_death_co_cleaned[(num_death_co_cleaned['submission_date'] >= '2021-03-01')& (num_death_co_cleaned['submission_date'] < '2021-04-01')]['daily_death']"
      ],
      "metadata": {
        "id": "T_fmp_VPAdBy"
      },
      "execution_count": 391,
      "outputs": []
    },
    {
      "cell_type": "code",
      "source": [
        "# Extract Feb and Mar 21 data for AR\n",
        "case_feb_ar = num_case_ar_cleaned[(num_case_ar_cleaned['submission_date'] >= '2021-02-01')& (num_case_ar_cleaned['submission_date'] < '2021-03-01')]['daily_cases']\n",
        "death_feb_ar = num_death_ar_cleaned[(num_death_ar_cleaned['submission_date'] >= '2021-02-01')& (num_death_ar_cleaned['submission_date'] < '2021-03-01')]['daily_death']\n",
        "\n",
        "case_mar_ar = num_case_ar_cleaned[(num_case_ar_cleaned['submission_date'] >= '2021-03-01')& (num_case_ar_cleaned['submission_date'] < '2021-04-01')]['daily_cases']\n",
        "death_mar_ar = num_death_ar_cleaned[(num_death_ar_cleaned['submission_date'] >= '2021-03-01')& (num_death_ar_cleaned['submission_date'] < '2021-04-01')]['daily_death']"
      ],
      "metadata": {
        "id": "5bov8pgtCh0k"
      },
      "execution_count": 392,
      "outputs": []
    },
    {
      "cell_type": "markdown",
      "source": [
        "### Wald's Test"
      ],
      "metadata": {
        "id": "Pgw7M9fCzqbe"
      }
    },
    {
      "cell_type": "code",
      "source": [
        "def WaldTest_oneSample(data1, data2):\n",
        "  guess_mean = np.mean(data1)\n",
        "  # MLE of poisson distribution is same as sample mean\n",
        "  est_mean = np.mean(data2)\n",
        "  n = 31\n",
        "  # var(poisson) = lambda = sample mean\n",
        "  # se(lambda_hat) = sqrt(lambda/n)\n",
        "  W = abs(est_mean-guess_mean)/np.sqrt(est_mean/n)\n",
        "  if W <= 1.96:\n",
        "    print('Accet H0 with result of Wald\\'s Test: ', W)\n",
        "  else:\n",
        "    print('Reject H0 with result of Wald\\'s Test: ', W)\n"
      ],
      "metadata": {
        "id": "dR9xUblBlC2X"
      },
      "execution_count": 393,
      "outputs": []
    },
    {
      "cell_type": "code",
      "source": [
        "# One sample Walds' Test for CO between Feb and Mar\n",
        "# daily cases\n",
        "\n",
        "print('One sample Wald\\'s Test for daily cases CO between Feb and Mar')\n",
        "W_case_co = WaldTest_oneSample(case_feb_co, case_mar_co)\n",
        "print()\n",
        "print('One sample Wald\\'s Test for daily death CO between Feb and Mar')\n",
        "W_death_co = WaldTest_oneSample(death_feb_co, death_mar_co)\n"
      ],
      "metadata": {
        "id": "8L12Ms0VJo-x",
        "colab": {
          "base_uri": "https://localhost:8080/"
        },
        "outputId": "bd16ce57-393c-486e-a2bb-c379bfc6bcbd"
      },
      "execution_count": 394,
      "outputs": [
        {
          "output_type": "stream",
          "name": "stdout",
          "text": [
            "One sample Wald's Test for daily cases CO between Feb and Mar\n",
            "Reject H0 with result of Wald's Test:  16.215337535205734\n",
            "\n",
            "One sample Wald's Test for daily death CO between Feb and Mar\n",
            "Reject H0 with result of Wald's Test:  16.006884708145563\n"
          ]
        }
      ]
    },
    {
      "cell_type": "code",
      "source": [
        "# One sample Walds' Test for AR between Feb and Mar\n",
        "\n",
        "print('One sample Wald\\'s Test for daily cases AR between Feb and Mar')\n",
        "W_case_ar = WaldTest_oneSample(case_feb_ar, case_mar_ar)\n",
        "print()\n",
        "print('One sample Wald\\'s Test for daily death AR between Feb and Mar')\n",
        "W_death_ar = WaldTest_oneSample(death_feb_ar, death_mar_ar)"
      ],
      "metadata": {
        "colab": {
          "base_uri": "https://localhost:8080/"
        },
        "id": "gsj9sFrfmBqx",
        "outputId": "7d1ade67-c63f-4955-e8bc-c953d4890f90"
      },
      "execution_count": 395,
      "outputs": [
        {
          "output_type": "stream",
          "name": "stdout",
          "text": [
            "One sample Wald's Test for daily cases AR between Feb and Mar\n",
            "Reject H0 with result of Wald's Test:  218.12262399981506\n",
            "\n",
            "One sample Wald's Test for daily death AR between Feb and Mar\n",
            "Reject H0 with result of Wald's Test:  12.638142956274537\n"
          ]
        }
      ]
    },
    {
      "cell_type": "code",
      "source": [
        "# Two Sample Wald's Test\n",
        "def WaldTest_twoSample(data1, data2):\n",
        "  delta = np.mean(data1) - np.mean(data2)\n",
        "  n = len(data1)\n",
        "  m = len(data2)\n",
        "  se = ((np.mean(data1)/n)+(np.mean(data2)/m))**.5\n",
        "\n",
        "  W = abs(delta/se)\n",
        "\n",
        "  if W <= 1.96:\n",
        "    print('Accet H0 with result of Wald\\'s Test: ', W)\n",
        "  else:\n",
        "    print('Reject H0 with result of Wald\\'s Test: ', W)"
      ],
      "metadata": {
        "id": "N_Q51NA2zkYz"
      },
      "execution_count": 396,
      "outputs": []
    },
    {
      "cell_type": "code",
      "source": [
        "print('Two sample Wald\\'s Test for daily cases CO between Feb and Mar')\n",
        "W_case_co = WaldTest_twoSample(case_feb_co, case_mar_co)\n",
        "print()\n",
        "print('Two sample Wald\\'s Test for daily death CO between Feb and Mar')\n",
        "W_death_co = WaldTest_twoSample(death_feb_co, death_mar_co)"
      ],
      "metadata": {
        "colab": {
          "base_uri": "https://localhost:8080/"
        },
        "id": "SizzThRN4hFX",
        "outputId": "3037d964-02b2-4ec6-f656-92798cf45e1b"
      },
      "execution_count": 397,
      "outputs": [
        {
          "output_type": "stream",
          "name": "stdout",
          "text": [
            "Two sample Wald's Test for daily cases CO between Feb and Mar\n",
            "Reject H0 with result of Wald's Test:  10.914216647814197\n",
            "\n",
            "Two sample Wald's Test for daily death CO between Feb and Mar\n",
            "Reject H0 with result of Wald's Test:  8.4135108781844\n"
          ]
        }
      ]
    },
    {
      "cell_type": "code",
      "source": [
        "print('Two sample Wald\\'s Test for daily cases AR between Feb and Mar')\n",
        "W_case_co = WaldTest_twoSample(case_feb_ar, case_mar_ar)\n",
        "print()\n",
        "print('Two sample Wald\\'s Test for daily death AR between Feb and Mar')\n",
        "W_death_co = WaldTest_twoSample(death_feb_ar, death_mar_ar)"
      ],
      "metadata": {
        "colab": {
          "base_uri": "https://localhost:8080/"
        },
        "id": "uoFvOYyT4hC2",
        "outputId": "23c1f62c-3694-4f61-f862-3123b84b453e"
      },
      "execution_count": 398,
      "outputs": [
        {
          "output_type": "stream",
          "name": "stdout",
          "text": [
            "Two sample Wald's Test for daily cases AR between Feb and Mar\n",
            "Reject H0 with result of Wald's Test:  98.02794111835297\n",
            "\n",
            "Two sample Wald's Test for daily death AR between Feb and Mar\n",
            "Reject H0 with result of Wald's Test:  7.434718791280638\n"
          ]
        }
      ]
    },
    {
      "cell_type": "markdown",
      "source": [
        "### Z-Test"
      ],
      "metadata": {
        "id": "gBGxj3WKzuhQ"
      }
    },
    {
      "cell_type": "code",
      "source": [
        "# Implementation of a one-sample Z-Test\n",
        "def ZTest_OneSample(data1, data2, sig):\n",
        "  guess_mean = np.mean(data1)\n",
        "  sample_mean = np.mean(data2)\n",
        "  n = len(data2)\n",
        "  Z = abs(sample_mean-guess_mean)/(sig/(n**.5))\n",
        "  if Z <= 1.96:\n",
        "    print('Accet H0 with result of Z-Test: ', Z)\n",
        "  else:\n",
        "    print('Reject H0 with result of Z-Test: ', Z)"
      ],
      "metadata": {
        "id": "0ksTXx_opSiu"
      },
      "execution_count": 399,
      "outputs": []
    },
    {
      "cell_type": "code",
      "source": [
        "# Z-Test\n",
        "# One sample Z-test for daily cases for CO between Feb and Mar\n",
        "print('One sample Z-Test for daily cases CO between Feb and Mar')\n",
        "Z_case_co = ZTest_OneSample(case_feb_co, case_mar_co, np.std(num_case_co_cleaned['daily_cases']))\n",
        "print()\n",
        "print('One sample Z-Test for daily death CO between Feb and Mar')\n",
        "Z_death_co = ZTest_OneSample(death_feb_co, death_mar_co, np.std(num_death_co_cleaned['daily_death']))\n"
      ],
      "metadata": {
        "id": "mNVZypgBJpBB",
        "colab": {
          "base_uri": "https://localhost:8080/"
        },
        "outputId": "34a30daf-fd4a-4888-896f-25c2ad638b00"
      },
      "execution_count": 400,
      "outputs": [
        {
          "output_type": "stream",
          "name": "stdout",
          "text": [
            "One sample Z-Test for daily cases CO between Feb and Mar\n",
            "Accet H0 with result of Z-Test:  0.5267032736333611\n",
            "\n",
            "One sample Z-Test for daily death CO between Feb and Mar\n",
            "Reject H0 with result of Z-Test:  3.562061556476174\n"
          ]
        }
      ]
    },
    {
      "cell_type": "code",
      "source": [
        "# One sample Z-test for daily cases for CO between Feb and Mar\n",
        "print('One sample Z-Test for daily cases AR between Feb and Mar')\n",
        "ZTest_OneSample(case_feb_ar, case_mar_ar, np.std(num_case_ar_cleaned['daily_cases']))\n",
        "print()\n",
        "print('One sample Z-Test for daily death AR between Feb and Mar')\n",
        "ZTest_OneSample(death_feb_ar, death_mar_ar, np.std(num_death_ar_cleaned['daily_death']))"
      ],
      "metadata": {
        "colab": {
          "base_uri": "https://localhost:8080/"
        },
        "id": "hfe-9PqTrDPZ",
        "outputId": "4a3be458-7ef1-47b5-b91b-fde6f2c6680d"
      },
      "execution_count": 401,
      "outputs": [
        {
          "output_type": "stream",
          "name": "stdout",
          "text": [
            "One sample Z-Test for daily cases AR between Feb and Mar\n",
            "Reject H0 with result of Z-Test:  5.6614407939722025\n",
            "\n",
            "One sample Z-Test for daily death AR between Feb and Mar\n",
            "Reject H0 with result of Z-Test:  3.7765837248037695\n"
          ]
        }
      ]
    },
    {
      "cell_type": "code",
      "source": [
        "# Two sample Z-test\n",
        "def ZTest_twoSample(data1, data2, var):\n",
        "  delta = np.mean(data1) - np.mean(data2)\n",
        "  n = len(data1)\n",
        "  m = len(data2)\n",
        "  deno = (var/n + var/m)**.5\n",
        "  Z = abs(delta/deno)\n",
        "  if Z <= 1.96:\n",
        "    print('Accet H0 with result of Z-Test: ', Z)\n",
        "  else:\n",
        "    print('Reject H0 with result of Z-Test: ', Z)"
      ],
      "metadata": {
        "id": "Bgxbb_-t4g_h"
      },
      "execution_count": 402,
      "outputs": []
    },
    {
      "cell_type": "code",
      "source": [
        "print('Two sample Z-Test for daily cases CO between Feb and Mar')\n",
        "ZTest_twoSample(case_feb_co, case_mar_co, np.var(num_case_co_cleaned['daily_cases']))\n",
        "print()\n",
        "print('Two sample Z-Test for daily death CO between Feb and Mar')\n",
        "ZTest_twoSample(death_feb_co, death_mar_co, np.var(num_death_co_cleaned['daily_death']))"
      ],
      "metadata": {
        "colab": {
          "base_uri": "https://localhost:8080/"
        },
        "id": "Cc3K4vgiSfBa",
        "outputId": "074c38f3-3d0d-4187-e19f-ae65cb2dfb34"
      },
      "execution_count": 403,
      "outputs": [
        {
          "output_type": "stream",
          "name": "stdout",
          "text": [
            "Two sample Z-Test for daily cases CO between Feb and Mar\n",
            "Accet H0 with result of Z-Test:  0.36284323263730744\n",
            "\n",
            "Two sample Z-Test for daily death CO between Feb and Mar\n",
            "Reject H0 with result of Z-Test:  2.43035270736499\n"
          ]
        }
      ]
    },
    {
      "cell_type": "code",
      "source": [
        "print('Two sample Z-Test for daily cases AR between Feb and Mar')\n",
        "ZTest_twoSample(case_feb_ar, case_mar_ar, np.var(num_case_ar_cleaned['daily_cases']))\n",
        "print()\n",
        "print('Two sample Z-Test for daily death AR between Feb and Mar')\n",
        "ZTest_twoSample(death_feb_ar, death_mar_ar, np.var(num_death_ar_cleaned['daily_death']))"
      ],
      "metadata": {
        "colab": {
          "base_uri": "https://localhost:8080/"
        },
        "id": "KGQlnluiuE_5",
        "outputId": "284f6706-ce42-4207-a8d2-d2f2f559081a"
      },
      "execution_count": 404,
      "outputs": [
        {
          "output_type": "stream",
          "name": "stdout",
          "text": [
            "Two sample Z-Test for daily cases AR between Feb and Mar\n",
            "Reject H0 with result of Z-Test:  3.862734470773308\n",
            "\n",
            "Two sample Z-Test for daily death AR between Feb and Mar\n",
            "Reject H0 with result of Z-Test:  2.576718659867099\n"
          ]
        }
      ]
    },
    {
      "cell_type": "markdown",
      "source": [
        "### T-Test"
      ],
      "metadata": {
        "id": "YM2tAd67RihB"
      }
    },
    {
      "cell_type": "code",
      "source": [
        "# T-test One sample\n",
        "def TTest_OneSample(data1, data2):\n",
        "  guess_mean = np.mean(data1)\n",
        "  sample_mean = np.mean(data2)\n",
        "  n = len(data2)\n",
        "  s = np.std(data2, ddof=1)\n",
        "  T = abs((sample_mean-guess_mean)/(s/(n**.5)))\n",
        "\n",
        "  if T <= 2.0423:\n",
        "    print('Accet H0 with result of T-Test: ', T)\n",
        "  else:\n",
        "    print('Reject H0 with result of T-Test: ', T)"
      ],
      "metadata": {
        "id": "uUI0XDfQ9_tv"
      },
      "execution_count": 405,
      "outputs": []
    },
    {
      "cell_type": "code",
      "source": [
        "# One sample T-test for daily cases for CO between Feb and Mar\n",
        "print('One sample T-test for daily cases for CO between Feb and Mar')\n",
        "TTest_OneSample(case_feb_co, case_mar_co)\n",
        "print()\n",
        "print('One sample T-test for daily death for CO between Feb and Mar')\n",
        "TTest_OneSample(death_feb_co, death_mar_co)"
      ],
      "metadata": {
        "colab": {
          "base_uri": "https://localhost:8080/"
        },
        "id": "fnUnnuSWGl4y",
        "outputId": "8b6352c7-773a-45d1-b14a-3bdf1f06f249"
      },
      "execution_count": 406,
      "outputs": [
        {
          "output_type": "stream",
          "name": "stdout",
          "text": [
            "One sample T-test for daily cases for CO between Feb and Mar\n",
            "Accet H0 with result of T-Test:  1.5317556250336444\n",
            "\n",
            "One sample T-test for daily death for CO between Feb and Mar\n",
            "Reject H0 with result of T-Test:  8.187911317501678\n"
          ]
        }
      ]
    },
    {
      "cell_type": "code",
      "source": [
        "# One sample T-test for daily cases for CO between Feb and Mar\n",
        "print('One sample T-test for daily cases for AR between Feb and Mar')\n",
        "TTest_OneSample(case_feb_ar, case_mar_ar)\n",
        "print()\n",
        "print('One sample T-test for daily death for AR between Feb and Mar')\n",
        "TTest_OneSample(death_feb_ar, death_mar_ar)"
      ],
      "metadata": {
        "colab": {
          "base_uri": "https://localhost:8080/"
        },
        "id": "O2Yl4Or9Gl15",
        "outputId": "3a159fc3-8143-4f94-97b7-224baf0f0ddd"
      },
      "execution_count": 407,
      "outputs": [
        {
          "output_type": "stream",
          "name": "stdout",
          "text": [
            "One sample T-test for daily cases for AR between Feb and Mar\n",
            "Reject H0 with result of T-Test:  26.188049084057777\n",
            "\n",
            "One sample T-test for daily death for AR between Feb and Mar\n",
            "Reject H0 with result of T-Test:  6.2716269624872965\n"
          ]
        }
      ]
    },
    {
      "cell_type": "code",
      "source": [
        ""
      ],
      "metadata": {
        "id": "XmKz1IZfRk0W"
      },
      "execution_count": 407,
      "outputs": []
    },
    {
      "cell_type": "markdown",
      "source": [
        ""
      ],
      "metadata": {
        "id": "tjZRrCc3WYsw"
      }
    },
    {
      "cell_type": "code",
      "source": [
        "# Two Sample T-test\n",
        "def TTest_twoSample(data1, data2):\n",
        "  n = len(data1)\n",
        "  m = len(data2)\n",
        "  delta = np.mean(data1) - np.mean(data2)\n",
        "  deno = (np.var(data1,ddof=1)/n + np.var(data2, ddof=1)/m)**.5\n",
        "  T = abs(delta/deno)\n",
        "  if T <= 2.0025:\n",
        "    print('Accet H0 with result of T-Test: ', T)\n",
        "  else:\n",
        "    print('Reject H0 with result of T-Test: ', T)"
      ],
      "metadata": {
        "id": "7WKgtel1w926"
      },
      "execution_count": 408,
      "outputs": []
    },
    {
      "cell_type": "code",
      "source": [
        "print('Two sample T-test for daily cases for CO between Feb and Mar')\n",
        "TTest_twoSample(case_feb_co, case_mar_co)\n",
        "print()\n",
        "print('Two sample T-test for daily death for CO between Feb and Mar')\n",
        "TTest_twoSample(death_feb_co, death_mar_co)\n"
      ],
      "metadata": {
        "colab": {
          "base_uri": "https://localhost:8080/"
        },
        "id": "vOjphPe2w9zt",
        "outputId": "a03cff7e-7fd2-4dcc-b660-bc528640448e"
      },
      "execution_count": 409,
      "outputs": [
        {
          "output_type": "stream",
          "name": "stdout",
          "text": [
            "Two sample T-test for daily cases for CO between Feb and Mar\n",
            "Accet H0 with result of T-Test:  1.115618985082873\n",
            "\n",
            "Two sample T-test for daily death for CO between Feb and Mar\n",
            "Reject H0 with result of T-Test:  4.027249758470368\n"
          ]
        }
      ]
    },
    {
      "cell_type": "code",
      "source": [
        "print('Two sample T-test for daily cases for AR between Feb and Mar')\n",
        "TTest_twoSample(case_feb_ar, case_mar_ar)\n",
        "print()\n",
        "print('Two sample T-test for daily death for AR between Feb and Mar')\n",
        "TTest_twoSample(death_feb_ar, death_mar_ar)"
      ],
      "metadata": {
        "colab": {
          "base_uri": "https://localhost:8080/"
        },
        "id": "kL6BBh_10M43",
        "outputId": "f1aafac5-adc0-4270-9f10-c4af84e59422"
      },
      "execution_count": 410,
      "outputs": [
        {
          "output_type": "stream",
          "name": "stdout",
          "text": [
            "Two sample T-test for daily cases for AR between Feb and Mar\n",
            "Reject H0 with result of T-Test:  5.129267029763564\n",
            "\n",
            "Two sample T-test for daily death for AR between Feb and Mar\n",
            "Reject H0 with result of T-Test:  2.9020278794409884\n"
          ]
        }
      ]
    },
    {
      "cell_type": "markdown",
      "source": [
        "### Discussion\n",
        "\n",
        "For Wald's Test, Although we use MLE for it and it is asymptotically normal. But the number of sample data does not tend to infinity.\n",
        "\n",
        "For Z-Test, the main assumption is either the sample data is normally distributed or size of sample data is large, greater or equal to 30. Since we are testing the mean of daily stats of March to Feburary. We have size of sample data greater than 30, Z-test is applicable.\n",
        "\n",
        "\n",
        "For T-test, it requires the data follow normal distribution. Since the sample data is not, so T test is not applicable."
      ],
      "metadata": {
        "id": "VPVzuQj0qi_L"
      }
    },
    {
      "cell_type": "markdown",
      "source": [
        "## Part B"
      ],
      "metadata": {
        "id": "PhlEld3r0rAC"
      }
    },
    {
      "cell_type": "code",
      "source": [
        "#extract last three months data of CO and AR\n",
        "case_21_co = num_case_co_cleaned[(num_case_co_cleaned['submission_date'] >= '2021-10-01')& (num_case_co_cleaned['submission_date'] < '2022-01-01')]['daily_cases'].to_numpy()\n",
        "death_21_co = num_death_co_cleaned[(num_death_co_cleaned['submission_date'] >= '2021-10-01')& (num_death_co_cleaned['submission_date'] < '2022-01-01')]['daily_death'].to_numpy()\n",
        "case_21_ar = num_case_ar_cleaned[(num_case_ar_cleaned['submission_date'] >= '2021-10-01')& (num_case_ar_cleaned['submission_date'] < '2022-01-01')]['daily_cases'].to_numpy()\n",
        "death_21_ar = num_death_ar_cleaned[(num_death_ar_cleaned['submission_date'] >= '2021-10-01')& (num_death_ar_cleaned['submission_date'] < '2022-01-01')]['daily_death'].to_numpy()"
      ],
      "metadata": {
        "id": "hH5IQRP31z8g"
      },
      "execution_count": 411,
      "outputs": []
    },
    {
      "cell_type": "markdown",
      "source": [
        "### K-S Test"
      ],
      "metadata": {
        "id": "FEbPJCTe09bg"
      }
    },
    {
      "cell_type": "code",
      "source": [
        "\n",
        "# Poisson lambda_MME = sample mean\n",
        "# Geometric p_MME = 1/sample mean\n",
        "# Binomial p_MME = 1- (sample variance/ sample mean)\n",
        "# n_MME = sample mean/p_MME\n",
        "def KS_test_OneSample(data1, data2, dist):\n",
        "  data_sorted = np.sort(data2)\n",
        "  ecdf = np.arange(1/len(data2), 1+1/len(data2), 1/len(data2))\n",
        "  if dist=='poisson':\n",
        "    mu_mme = np.mean(data1)\n",
        "    guess_dist = [st.poisson.cdf(x, mu_mme) for x in data_sorted]\n",
        "  elif dist =='geom':\n",
        "    p_mme = 1/np.mean(data1)\n",
        "    guess_dist = [st.geom.cdf(x, p_mme) for x in data_sorted]\n",
        "  elif dist == 'bino':\n",
        "    p_mme = 1-(np.var(data1)/np.mean(data1))\n",
        "    n_mme = np.mean(data1)/p_mme\n",
        "    guess_dist = [st.binom.cdf(x, n_mme, p_mme) for x in data_sorted]\n",
        "\n",
        "  d = max(np.abs(ecdf-guess_dist))\n",
        "  print('The max d =', d)\n",
        "  if d > 0.05:\n",
        "    print('Reject Null Hypothesis.')\n",
        "  else:\n",
        "    print('Accept Null Hypothesis.')\n"
      ],
      "metadata": {
        "id": "v_AzipQA1MtW"
      },
      "execution_count": 412,
      "outputs": []
    },
    {
      "cell_type": "code",
      "source": [
        "for i in [(case_21_co, case_21_ar), (death_21_co, death_21_ar)]:\n",
        "  for j in ['poisson', 'geom', 'bino']:\n",
        "    print(j)\n",
        "    KS_test_OneSample(i[0],i[1], j)\n",
        "    print()\n",
        "  print()"
      ],
      "metadata": {
        "colab": {
          "base_uri": "https://localhost:8080/"
        },
        "id": "jY8KjYSibwGo",
        "outputId": "41804e36-5e5a-4651-8087-e709c814ebb6"
      },
      "execution_count": 413,
      "outputs": [
        {
          "output_type": "stream",
          "name": "stdout",
          "text": [
            "poisson\n",
            "The max d = 0.9887640449438202\n",
            "Reject Null Hypothesis.\n",
            "\n",
            "geom\n",
            "The max d = 0.5837416139421251\n",
            "Reject Null Hypothesis.\n",
            "\n",
            "bino\n",
            "The max d = 0.9887640449438202\n",
            "Reject Null Hypothesis.\n",
            "\n",
            "\n",
            "poisson\n",
            "The max d = 0.32098151692519294\n",
            "Reject Null Hypothesis.\n",
            "\n",
            "geom\n",
            "The max d = 0.19394728466640576\n",
            "Reject Null Hypothesis.\n",
            "\n",
            "bino\n",
            "The max d = 0.989010989010989\n",
            "Reject Null Hypothesis.\n",
            "\n",
            "\n"
          ]
        }
      ]
    },
    {
      "cell_type": "code",
      "source": [
        "# Perform a Two-Sample KS Test\n",
        "def KS_test_TwoSample(data1, data2):\n",
        "  if len(data1) > len(data2):\n",
        "    data1, data2 = data2, data1\n",
        "  data1_sorted = np.sort(data1)\n",
        "  data2_sorted = np.sort(data2)\n",
        "  d1 = [st.percentileofscore(data1_sorted, x)/100 for x in data1_sorted]\n",
        "  d2 = [st.percentileofscore(data2_sorted, x)/100 for x in data1_sorted]\n",
        "  d = max(np.abs(np.subtract(d1, d2)))\n",
        "  print('The max d =', d)\n",
        "  if d > 0.05:\n",
        "    print('Reject Null Hypothesis.')\n",
        "  else:\n",
        "    print('Accept Null Hypothesis.')\n",
        "\n",
        "KS_test_TwoSample(case_21_co, case_21_ar)"
      ],
      "metadata": {
        "colab": {
          "base_uri": "https://localhost:8080/"
        },
        "id": "NTfTJ1fbozW3",
        "outputId": "440d65c7-dba0-4674-f9e5-cc04da312da9"
      },
      "execution_count": 414,
      "outputs": [
        {
          "output_type": "stream",
          "name": "stdout",
          "text": [
            "The max d = 0.9409427240339818\n",
            "Reject Null Hypothesis.\n"
          ]
        }
      ]
    },
    {
      "cell_type": "code",
      "source": [
        "KS_test_TwoSample(death_21_co, death_21_ar)"
      ],
      "metadata": {
        "colab": {
          "base_uri": "https://localhost:8080/"
        },
        "id": "F_V1V4BX6ien",
        "outputId": "a04702ce-69dd-456e-cae3-da0fbc67cc83"
      },
      "execution_count": 415,
      "outputs": [
        {
          "output_type": "stream",
          "name": "stdout",
          "text": [
            "The max d = 0.3099885189437429\n",
            "Reject Null Hypothesis.\n"
          ]
        }
      ]
    },
    {
      "cell_type": "markdown",
      "source": [
        "### Permutation Test"
      ],
      "metadata": {
        "id": "_P_Zzmnb1HXE"
      }
    },
    {
      "cell_type": "code",
      "source": [
        "# As a subpiece to the Permutation Test\n",
        "# calculate the \n",
        "def run_permutation_test(data, n):\n",
        "  np.random.shuffle(data)\n",
        "  d1 = data[:n]\n",
        "  d2 = data[n:]\n",
        "\n",
        "  t = abs(np.mean(d1) - np.mean(d2))\n",
        "  return t\n",
        "\n",
        "# Perform a permutation test between the two datasets\n",
        "def permutation_test(data1, data2):\n",
        "  n, m = len(data1), len(data2)\n",
        "  t_obs = abs(np.mean(data1)-np.mean(data2))\n",
        "  total = np.append(data1, data2)\n",
        " \n",
        "  diff = len(list(filter(lambda x: x> t_obs, map(lambda y: run_permutation_test(total, n), range(1000)))))\n",
        "  p = diff/1000.0\n",
        "  print('p-vale for permutation test:', p)\n",
        "  print('When n = 1000')\n",
        "  if p > 0.05:\n",
        "      print('Accepted Null Hypothesis')\n",
        "  else:\n",
        "      print('Rejected Null Hypothesis')\n"
      ],
      "metadata": {
        "id": "gnjLkshk1NI1"
      },
      "execution_count": 416,
      "outputs": []
    },
    {
      "cell_type": "code",
      "source": [
        "# permutaion test for daily case in CO and AR\n",
        "permutation_test(case_21_co, case_21_ar)"
      ],
      "metadata": {
        "colab": {
          "base_uri": "https://localhost:8080/"
        },
        "id": "lrP9gUGd1NBM",
        "outputId": "883d04d8-8c66-4f3c-f1d0-74e96d572009"
      },
      "execution_count": 417,
      "outputs": [
        {
          "output_type": "stream",
          "name": "stdout",
          "text": [
            "p-vale for permutation test: 0.0\n",
            "When n = 1000\n",
            "Rejected Null Hypothesis\n"
          ]
        }
      ]
    },
    {
      "cell_type": "code",
      "source": [
        "permutation_test(death_21_co, death_21_ar)"
      ],
      "metadata": {
        "colab": {
          "base_uri": "https://localhost:8080/"
        },
        "id": "jZcZucqNGCxF",
        "outputId": "509e533a-952b-457c-8da9-8ee5172493c0"
      },
      "execution_count": 418,
      "outputs": [
        {
          "output_type": "stream",
          "name": "stdout",
          "text": [
            "p-vale for permutation test: 0.016\n",
            "When n = 1000\n",
            "Rejected Null Hypothesis\n"
          ]
        }
      ]
    },
    {
      "cell_type": "markdown",
      "source": [
        "## Part C"
      ],
      "metadata": {
        "id": "0-hKaYlH-rX6"
      }
    },
    {
      "cell_type": "code",
      "source": [
        "total = pd.concat([num_death_co_cleaned, num_death_ar_cleaned,num_case_co_cleaned,num_case_ar_cleaned]).sort_values('submission_date').groupby('submission_date',as_index=False).sum()"
      ],
      "metadata": {
        "id": "mY_2hClK-S28"
      },
      "execution_count": 419,
      "outputs": []
    },
    {
      "cell_type": "code",
      "source": [
        "total['sum'] = total['daily_cases']+total['daily_death']"
      ],
      "metadata": {
        "id": "sbwgKnrFaflS"
      },
      "execution_count": 420,
      "outputs": []
    },
    {
      "cell_type": "code",
      "source": [
        "# Exp = Gamma(1, λ)\n",
        "# If our data X1, . . . ,Xn are iid Poisson(λ), then a gamma(α, β) prior on  is a conjugate prior.\n",
        "# posterior = gamma(sum(x)+α, len(x)+β), where α = 1 and β = λ\n",
        "dates = [['2020-06-01', '2020-06-29'],['2020-06-29', '2020-07-06'],['2020-07-06','2020-07-13'],['2020-07-13','2020-07-20'],['2020-07-20','2020-07-27']]\n",
        "alpha, beta =1, 0\n",
        "def bayesInf(data, dates, alpha, beta):\n",
        "  for i, j in enumerate(dates):\n",
        "    d = data[(data['submission_date']>=j[0]) & (data['submission_date']<j[1])]['sum'].to_numpy()\n",
        "    if i == 0:\n",
        "      beta = 1/np.mean(d)\n",
        "    a = np.sum(d) + alpha\n",
        "    b = len(d) + beta\n",
        "\n",
        "    alpha, beta = a,b\n",
        "    x = np.linspace(st.gamma.ppf(0.01, a, scale=1/b),\n",
        "              st.gamma.ppf(0.99, a, scale=1/b), 100)\n",
        "    plt.plot(x, st.gamma.pdf(x, a, scale=1/b), label=f'{i+1} MAP: {a/b}')\n",
        "  plt.legend()\n",
        "  plt.show()\n",
        "\n",
        "bayesInf(total, dates,alpha, beta)"
      ],
      "metadata": {
        "colab": {
          "base_uri": "https://localhost:8080/",
          "height": 265
        },
        "id": "NOFe9RAXPrfH",
        "outputId": "77231716-3c62-4a77-ffd1-9235a0e54f92"
      },
      "execution_count": 421,
      "outputs": [
        {
          "output_type": "display_data",
          "data": {
            "text/plain": [
              "<Figure size 432x288 with 1 Axes>"
            ],
            "image/png": "[encoded data removed]"
          },
          "metadata": {
            "needs_background": "light"
          }
        }
      ]
    },
    {
      "cell_type": "code",
      "source": [
        "dates = ['2020-06-29', '2020-07-06','2020-07-13','2020-07-20','2020-07-27']\n",
        "\n",
        "def bayesInf(data, dates, alpha, beta):\n",
        "  for i, j in enumerate(dates):\n",
        "    d = data[(data['submission_date']>'2020-06-01') & (data['submission_date']<j)]['sum'].to_numpy()\n",
        "    a = np.sum(d) + 1\n",
        "    b = len(d) + 1/np.mean(d)\n",
        "\n",
        "    alpha, beta = a,b\n",
        "    x = np.linspace(st.gamma.ppf(0.01, a, scale=1/b),\n",
        "              st.gamma.ppf(0.99, a, scale=1/b), 100)\n",
        "    plt.plot(x, st.gamma.pdf(x, a, scale=1/b), label=f'{i+1} MAP: {a/b}')\n",
        "  plt.legend()\n",
        "  plt.show()\n",
        "\n",
        "bayesInf(total, dates,alpha, beta)"
      ],
      "metadata": {
        "colab": {
          "base_uri": "https://localhost:8080/",
          "height": 265
        },
        "id": "bz_Gx448dzo7",
        "outputId": "41ad8520-9847-4d9e-ec6a-3e2ec9b22c34"
      },
      "execution_count": 422,
      "outputs": [
        {
          "output_type": "display_data",
          "data": {
            "text/plain": [
              "<Figure size 432x288 with 1 Axes>"
            ],
            "image/png": "[encoded data removed]"
          },
          "metadata": {
            "needs_background": "light"
          }
        }
      ]
    },
    {
      "cell_type": "markdown",
      "source": [
        "## Part D"
      ],
      "metadata": {
        "id": "gN_HOfCc-wfi"
      }
    },
    {
      "cell_type": "code",
      "source": [
        "def AR(data, t):\n",
        "  #extract the training data\n",
        "  samp = data[(data['Date'] >= '2021-05-01')& (data['Date'] < '2021-05-29')]['Daily Administered'].to_numpy()\n",
        "\n",
        "  y_train = samp[t:21]\n",
        "  y_train = y_train.reshape(-1,1)\n",
        "\n",
        "  x_train = []\n",
        "\n",
        "  #create matrix for MLR\n",
        "  for i in range(21-t):\n",
        "    temp = []\n",
        "    for j in range(t-1,-1,-1):\n",
        "      temp.append(samp[i+j])\n",
        "    x_train.append(temp)\n",
        "\n",
        "  x_train = np.array(x_train)\n",
        "  x_train_T = x_train.transpose()\n",
        "\n",
        "  #calculate beta_hat\n",
        "  beta_hat = np.matmul(np.linalg.inv(np.matmul(x_train_T, x_train)),np.matmul(x_train_T, y_train))\n",
        "\n",
        "  input = samp[len(samp)-(7+t-1):]\n",
        "\n",
        "  x= []\n",
        "  for i in range(7):\n",
        "    temp = []\n",
        "    for j in range(t-1,-1,-1):\n",
        "      temp.append(input[i+j])\n",
        "    x.append(temp)\n",
        "\n",
        "  y_p = np.matmul(x, beta_hat)\n",
        "\n",
        "  y = samp[-7:]\n",
        "  y_p=y_p.ravel()\n",
        "\n",
        "  print('Real value of y:', y)\n",
        "  print('Predict value of y:',y_p)\n",
        "  \n",
        "  mape = 0\n",
        "  mse = 0\n",
        "  for i, j in zip(y, y_p):\n",
        "    mape += abs(i-j)/i\n",
        "    mse += (i-j)**2\n",
        "  \n",
        "  mape = mape/7*100\n",
        "  mse = mse/7\n",
        "  print(f'MAPE: {round(mape,2)}%\\nSSE: {mse}\\n')\n"
      ],
      "metadata": {
        "id": "ekKoQbPGdg91"
      },
      "execution_count": 423,
      "outputs": []
    },
    {
      "cell_type": "code",
      "source": [
        "AR(vac_co_cleaned, 3)"
      ],
      "metadata": {
        "colab": {
          "base_uri": "https://localhost:8080/"
        },
        "id": "svpGAPsyYCYe",
        "outputId": "09722080-484c-4f49-ad7e-0745edd7da7e"
      },
      "execution_count": 424,
      "outputs": [
        {
          "output_type": "stream",
          "name": "stdout",
          "text": [
            "Real value of y: [ 1933. 32323. 17252. 25360. 30459. 26579. 31154.]\n",
            "Predict value of y: [ 7146.0814922  39046.15952908  6782.25598024 28389.72870152\n",
            " 25268.48172531 23467.75185594 30188.19484083]\n",
            "MAPE: 56.42%\n",
            "SSE: 32675144.731596123\n",
            "\n"
          ]
        }
      ]
    },
    {
      "cell_type": "code",
      "source": [
        "AR(vac_ar_cleaned, 3)"
      ],
      "metadata": {
        "colab": {
          "base_uri": "https://localhost:8080/"
        },
        "id": "14syGsbEk_l8",
        "outputId": "34e06437-ffda-4be6-9c09-0c8031c80aac"
      },
      "execution_count": 425,
      "outputs": [
        {
          "output_type": "stream",
          "name": "stdout",
          "text": [
            "Real value of y: [12951.  9433.  4516.  2394.  9665.  8909.  8115.]\n",
            "Predict value of y: [11945.42896375  8339.68423668  5611.70697054  4425.88947015\n",
            " 10994.38901208  5247.93658972  8181.95357582]\n",
            "MAPE: 26.31%\n",
            "SSE: 3244400.610330465\n",
            "\n"
          ]
        }
      ]
    },
    {
      "cell_type": "code",
      "source": [
        "AR(vac_ar_cleaned, 5)"
      ],
      "metadata": {
        "colab": {
          "base_uri": "https://localhost:8080/"
        },
        "id": "bu01Jl1PlH9Z",
        "outputId": "3294036b-fd30-4e09-c68f-6e12300bd310"
      },
      "execution_count": 426,
      "outputs": [
        {
          "output_type": "stream",
          "name": "stdout",
          "text": [
            "Real value of y: [12951.  9433.  4516.  2394.  9665.  8909.  8115.]\n",
            "Predict value of y: [ 9892.80038557  6142.92502592  5331.03411388  4970.89678906\n",
            " 14074.58598089  3967.05459271  9822.63545348]\n",
            "MAPE: 43.76%\n",
            "SSE: 10609306.808366807\n",
            "\n"
          ]
        }
      ]
    },
    {
      "cell_type": "code",
      "source": [
        "AR(vac_co_cleaned, 5)"
      ],
      "metadata": {
        "colab": {
          "base_uri": "https://localhost:8080/"
        },
        "id": "PL9t-IGflDpx",
        "outputId": "3869c6cb-f61b-49f0-f566-26518dccab24"
      },
      "execution_count": 427,
      "outputs": [
        {
          "output_type": "stream",
          "name": "stdout",
          "text": [
            "Real value of y: [ 1933. 32323. 17252. 25360. 30459. 26579. 31154.]\n",
            "Predict value of y: [ 5522.96513438 34429.93115638 17303.00179923 23663.51354647\n",
            " 24157.9185137  23440.90686539 26885.98705273]\n",
            "MAPE: 35.06%\n",
            "SSE: 12567838.138706962\n",
            "\n"
          ]
        }
      ]
    },
    {
      "cell_type": "code",
      "source": [
        "# Calculate the EWMA\n",
        "def EWMA(data, alpha):\n",
        "  # Get the sample data\n",
        "  samp = data[(data['Date'] >= '2021-05-01')& (data['Date'] < '2021-05-29')]['Daily Administered'].to_numpy()\n",
        "  \n",
        "  # Need to use -7: here instead of 21: because some of the days in the first three\n",
        "  # weeks could have been outliers and thus been removed.\n",
        "  y = samp[-7:]\n",
        "\n",
        "  # Predict follow-up values for y using EWMA \n",
        "  y_p = [0]*len(y)\n",
        "  y_p[0] = y[0]\n",
        "  for i in range(1, len(y)):\n",
        "    y_p[i] = alpha*y[i-1]+(1-alpha)*y_p[i-1]\n",
        "\n",
        "  print('Real value of y:', y)\n",
        "  print('Predict value of y:',y_p)\n",
        "\n",
        "  # Calculate the errors between the prediction and the actual y values\n",
        "  mape = 0\n",
        "  mse = 0\n",
        "  for i, j in zip(y, y_p):\n",
        "    mape += abs(i-j)/i\n",
        "    mse += (i-j)**2\n",
        "  \n",
        "  mape = mape/7*100\n",
        "  mse = mse/7\n",
        "  print(f'MAPE: {round(mape,2)}%\\nSSE: {mse}\\n')\n"
      ],
      "metadata": {
        "id": "6DDTgsf3wZ_0"
      },
      "execution_count": 428,
      "outputs": []
    },
    {
      "cell_type": "code",
      "source": [
        "EWMA(vac_co_cleaned, 0.5)"
      ],
      "metadata": {
        "colab": {
          "base_uri": "https://localhost:8080/"
        },
        "id": "7_tVq5cX8PaH",
        "outputId": "b206d5fc-ccd5-442e-b5b7-33f0f97cbf9f"
      },
      "execution_count": 429,
      "outputs": [
        {
          "output_type": "stream",
          "name": "stdout",
          "text": [
            "Real value of y: [ 1933. 32323. 17252. 25360. 30459. 26579. 31154.]\n",
            "Predict value of y: [1933.0, 1933.0, 17128.0, 17190.0, 21275.0, 25867.0, 26223.0]\n",
            "MAPE: 25.09%\n",
            "SSE: 157069133.85714287\n",
            "\n"
          ]
        }
      ]
    },
    {
      "cell_type": "code",
      "source": [
        "EWMA(vac_co_cleaned, 0.8)"
      ],
      "metadata": {
        "colab": {
          "base_uri": "https://localhost:8080/"
        },
        "id": "U1xsMmzh8T08",
        "outputId": "926fdf06-37b0-4340-ff4f-ebd2ac358b66"
      },
      "execution_count": 430,
      "outputs": [
        {
          "output_type": "stream",
          "name": "stdout",
          "text": [
            "Real value of y: [ 1933. 32323. 17252. 25360. 30459. 26579. 31154.]\n",
            "Predict value of y: [1933.0, 1933.0, 26245.0, 19050.6, 24098.12, 29186.824, 27100.5648]\n",
            "MAPE: 30.68%\n",
            "SSE: 158275222.09571072\n",
            "\n"
          ]
        }
      ]
    },
    {
      "cell_type": "code",
      "source": [
        "EWMA(vac_ar_cleaned, 0.5)"
      ],
      "metadata": {
        "colab": {
          "base_uri": "https://localhost:8080/"
        },
        "id": "fUg7FgyFrTY6",
        "outputId": "44c0df57-7ab8-41a3-9b83-230ca8a32afc"
      },
      "execution_count": 431,
      "outputs": [
        {
          "output_type": "stream",
          "name": "stdout",
          "text": [
            "Real value of y: [12951.  9433.  4516.  2394.  9665.  8909.  8115.]\n",
            "Predict value of y: [12951.0, 12951.0, 11192.0, 7854.0, 5124.0, 7394.5, 8151.75]\n",
            "MAPE: 68.23%\n",
            "SSE: 15667520.25892857\n",
            "\n"
          ]
        }
      ]
    },
    {
      "cell_type": "code",
      "source": [
        "EWMA(vac_ar_cleaned, 0.8)"
      ],
      "metadata": {
        "colab": {
          "base_uri": "https://localhost:8080/"
        },
        "id": "Tbh_VZMF8E9I",
        "outputId": "ca095702-8697-4f42-9258-bee02def68f8"
      },
      "execution_count": 432,
      "outputs": [
        {
          "output_type": "stream",
          "name": "stdout",
          "text": [
            "Real value of y: [12951.  9433.  4516.  2394.  9665.  8909.  8115.]\n",
            "Predict value of y: [12951.0, 12951.0, 10136.6, 5640.12, 3043.2239999999997, 8340.6448, 8795.32896]\n",
            "MAPE: 54.37%\n",
            "SSE: 14162650.847965388\n",
            "\n"
          ]
        }
      ]
    },
    {
      "cell_type": "markdown",
      "source": [
        "## Part E"
      ],
      "metadata": {
        "id": "K0HPU5kw-25h"
      }
    },
    {
      "cell_type": "code",
      "source": [
        "vac_sep21_co = vac_co_cleaned[(vac_co_cleaned['Date'] >= '2021-09-01')& (vac_co_cleaned['Date'] < '2021-10-01')]['Daily Administered'].to_numpy()\n",
        "vac_sep21_ar = vac_ar_cleaned[(vac_ar_cleaned['Date'] >= '2021-09-01')& (vac_ar_cleaned['Date'] < '2021-10-01')]['Daily Administered'].to_numpy()\n",
        "\n",
        "vac_nov21_co = vac_co_cleaned[(vac_co_cleaned['Date'] >= '2021-11-01')& (vac_co_cleaned['Date'] < '2021-12-01')]['Daily Administered'].to_numpy()\n",
        "vac_nov21_ar = vac_ar_cleaned[(vac_ar_cleaned['Date'] >= '2021-11-01')& (vac_ar_cleaned['Date'] < '2021-12-01')]['Daily Administered'].to_numpy()"
      ],
      "metadata": {
        "id": "tLRswyLw-3qw"
      },
      "execution_count": 433,
      "outputs": []
    },
    {
      "cell_type": "code",
      "source": [
        "def pairedTtest(data1, data2):\n",
        "  d = [i-j for i, j in zip(data1, data2)]\n",
        "  n = len(data1)\n",
        "  mean = np.mean(d)\n",
        "  s = np.std(d)\n",
        "  T = mean/(s/n**.5)\n",
        "  if T <= st.t.ppf(q=1-.05/2,df=len(data1)-1):\n",
        "    print('Accet H0 with result of T-Test: ', T)\n",
        "  else:\n",
        "    print('Reject H0 with result of T-Test: ', T)"
      ],
      "metadata": {
        "id": "Yf1SfD2L-3nw"
      },
      "execution_count": 434,
      "outputs": []
    },
    {
      "cell_type": "code",
      "source": [
        "print('Paired T-test for number of vaccine daily administered in CO and AR for Sep.')\n",
        "pairedTtest(vac_sep21_co,vac_sep21_ar)"
      ],
      "metadata": {
        "id": "E4wixnHF-3P8",
        "colab": {
          "base_uri": "https://localhost:8080/"
        },
        "outputId": "595810e5-f58b-479b-8bc3-a49227839584"
      },
      "execution_count": 435,
      "outputs": [
        {
          "output_type": "stream",
          "name": "stdout",
          "text": [
            "Paired T-test for number of vaccine daily administered in CO and AR for Sep.\n",
            "Reject H0 with result of T-Test:  5.2594134699214266\n"
          ]
        }
      ]
    },
    {
      "cell_type": "code",
      "source": [
        "print('Paired T-test for number of vaccine daily administered in CO and AR for Nov.')\n",
        "pairedTtest(vac_nov21_co,vac_nov21_ar)"
      ],
      "metadata": {
        "colab": {
          "base_uri": "https://localhost:8080/"
        },
        "id": "zp_wzkJ0C1GH",
        "outputId": "2bca1fe6-bbda-413b-843a-ac6618952165"
      },
      "execution_count": 436,
      "outputs": [
        {
          "output_type": "stream",
          "name": "stdout",
          "text": [
            "Paired T-test for number of vaccine daily administered in CO and AR for Nov.\n",
            "Reject H0 with result of T-Test:  6.664397605626252\n"
          ]
        }
      ]
    },
    {
      "cell_type": "markdown",
      "source": [
        "### Observation"
      ],
      "metadata": {
        "id": "QlWqZ2d8dTdI"
      }
    },
    {
      "cell_type": "markdown",
      "source": [
        "From these two T-tests, we observe that the average daily vaccinations between Arkansas and Colorado do not seem to correlate. This holds for both September and November. This could potentially be a result of the population disparity between the two states, as Colorado has a population around 5.7 million, as compared to Arkansas's approximately 3 million. It could also imply that residents of Colorado and Arkansas had differing views on vaccination."
      ],
      "metadata": {
        "id": "g7rdG1qN68vI"
      }
    },
    {
      "cell_type": "code",
      "source": [
        ""
      ],
      "metadata": {
        "id": "zkOAuzH8dWFi"
      },
      "execution_count": 436,
      "outputs": []
    },
    {
      "cell_type": "markdown",
      "source": [
        "# Exploratory Part"
      ],
      "metadata": {
        "id": "srlE18ik0b8-"
      }
    },
    {
      "cell_type": "markdown",
      "source": [
        "## Preparation"
      ],
      "metadata": {
        "id": "CiybZ5nbxvZN"
      }
    },
    {
      "cell_type": "code",
      "source": [
        "# Download dataset for exploratory Part\n",
        "!gdown 1LkHgowiXxTY5AiShYunHmX70MirkRb2Y"
      ],
      "metadata": {
        "colab": {
          "base_uri": "https://localhost:8080/"
        },
        "id": "jwb_utVl0s44",
        "outputId": "18f33848-a4ff-465d-ecdb-3c281530128d"
      },
      "execution_count": 437,
      "outputs": [
        {
          "output_type": "stream",
          "name": "stdout",
          "text": [
            "Downloading...\n",
            "From: https://drive.google.com/uc?id=1LkHgowiXxTY5AiShYunHmX70MirkRb2Y\n",
            "To: /content/Metro_mlp_uc_sfrcondo_sm_week.csv\n",
            "\r  0% 0.00/207k [00:00<?, ?B/s]\r100% 207k/207k [00:00<00:00, 59.6MB/s]\n"
          ]
        }
      ]
    },
    {
      "cell_type": "code",
      "source": [
        "# extract listing data of specified state from 2020-10-03 to 2021-05-29 from listing data\n",
        "def extractListingData(data, state):\n",
        "  df = data[data['StateName'] == state]\n",
        "  df= df.loc[:,\"2020-10-03\":\"2021-05-29\"]\n",
        "  l = []\n",
        "  for col in df.columns:\n",
        "    l.append(df[col].mean())\n",
        "  return l"
      ],
      "metadata": {
        "id": "msL3bPV6m_ji"
      },
      "execution_count": 438,
      "outputs": []
    },
    {
      "cell_type": "code",
      "source": [
        "# The target data is weekly stats/vaccination in the time frame between 10/2020 to 5/2021\n",
        "listingData = pd.read_csv('Metro_mlp_uc_sfrcondo_sm_week.csv')\n",
        "CO_listing = extractListingData(listingData, 'CO')\n",
        "AR_listing = extractListingData(listingData, 'AR')"
      ],
      "metadata": {
        "id": "RqZpA-1BDVxn"
      },
      "execution_count": 439,
      "outputs": []
    },
    {
      "cell_type": "code",
      "source": [
        "# extract weekly data from 2020-09-28 to 2021-05-29 from case and vaccination dataset\n",
        "def extractWeeklyStat(data, col, stat):\n",
        "  df = data.set_index(col)\n",
        "  df = df.loc['2020-09-28':\"2021-05-29\",:]\n",
        "  df['Week_Number'] = df.index.week\n",
        "  df['Year'] = df.index.year\n",
        "  #return df\n",
        "  df2 = df.groupby(['Year','Week_Number']).sum()\n",
        "  return df2[stat].to_numpy()[:-1]"
      ],
      "metadata": {
        "id": "aWRP6T7GraIG"
      },
      "execution_count": 440,
      "outputs": []
    },
    {
      "cell_type": "code",
      "source": [
        "# These dataset has length of 35, start at 9/2820, end at 5/29/21\n",
        "CO_case_weekly = extractWeeklyStat(num_case_co_cleaned, 'submission_date', 'daily_cases')\n",
        "CO_death_weekly = extractWeeklyStat(num_death_co_cleaned, 'submission_date', 'daily_death')\n",
        "AR_case_weekly = extractWeeklyStat(num_case_ar_cleaned, 'submission_date', 'daily_cases')\n",
        "AR_death_weekly = extractWeeklyStat(num_death_ar_cleaned, 'submission_date', 'daily_death')"
      ],
      "metadata": {
        "colab": {
          "base_uri": "https://localhost:8080/"
        },
        "id": "9HgmFfZhufS3",
        "outputId": "f9bcc0ca-4e52-4ca5-bb33-c35bc19c1042"
      },
      "execution_count": 441,
      "outputs": [
        {
          "output_type": "stream",
          "name": "stderr",
          "text": [
            "/usr/local/lib/python3.7/dist-packages/ipykernel_launcher.py:5: FutureWarning: weekofyear and week have been deprecated, please use DatetimeIndex.isocalendar().week instead, which returns a Series.  To exactly reproduce the behavior of week and weekofyear and return an Index, you may call pd.Int64Index(idx.isocalendar().week)\n",
            "  \"\"\"\n"
          ]
        }
      ]
    },
    {
      "cell_type": "code",
      "source": [
        "# The start date of vaccination is 12/14/20, the the length of output is 24, less than 35  \n",
        "CO_vac_weekly = extractWeeklyStat(vac_co_cleaned, 'Date', 'Daily Administered')\n",
        "AR_vac_weekly = extractWeeklyStat(vac_ar_cleaned, 'Date', 'Daily Administered')\n"
      ],
      "metadata": {
        "colab": {
          "base_uri": "https://localhost:8080/"
        },
        "id": "aIhuz1mQufLT",
        "outputId": "68f53c36-1a81-4cd8-8c76-d618411bf285"
      },
      "execution_count": 442,
      "outputs": [
        {
          "output_type": "stream",
          "name": "stderr",
          "text": [
            "/usr/local/lib/python3.7/dist-packages/ipykernel_launcher.py:5: FutureWarning: weekofyear and week have been deprecated, please use DatetimeIndex.isocalendar().week instead, which returns a Series.  To exactly reproduce the behavior of week and weekofyear and return an Index, you may call pd.Int64Index(idx.isocalendar().week)\n",
            "  \"\"\"\n"
          ]
        }
      ]
    },
    {
      "cell_type": "markdown",
      "source": [
        "## Inference 1\n",
        "\n",
        "\n",
        " For each inference you propose, provide a paragraph of text to explain why this inference is practical and useful. Also comment on the results of your inference, as appropriate. For each inference, use parameters that seem reasonable and explain why you are using those parameters. Where possible, comment on whether your inference technique is applicable. "
      ],
      "metadata": {
        "id": "tk7Ad_iR9I6z"
      }
    },
    {
      "cell_type": "markdown",
      "source": [
        "H0: Confirmed weekly cases and deaths caused by Covid-19 and house listing price are nto correlated\n",
        "\n",
        "H1: Confirmed weekly cases and deaths caused by Covid-19 and house listing price are not nto correlated"
      ],
      "metadata": {
        "id": "36Yb4F-idhJZ"
      }
    },
    {
      "cell_type": "markdown",
      "source": [
        "In this inference, we are inferencing the relationship between the house listing price and confirmed cases and death caused by Covid-19 on the Colorado and Arkansas. This inference is practical and useful because the housing market can have substantial influence on the direction of the overall economy. Sustained declines in housing starts slow the economy and can push it into a recession. Likewise, increases in housing activity triggers economic growth. By inferencing the relationship between these two dataset, we can have a perspective on how does Covid affect the economic of each state."
      ],
      "metadata": {
        "id": "vedlAXOUZOgU"
      }
    },
    {
      "cell_type": "code",
      "source": [
        "# Calculate the Pearon Correlation between two variables\n",
        "def pearsonCorrelation(x, y):\n",
        "  # Compute the metric\n",
        "  mean_x = np.mean(x)\n",
        "  mean_y = np.mean(y)\n",
        "  numer = np.sum([(i-mean_x)*(j-mean_y) for i, j in zip(x,y)])/len(x)\n",
        "  deno = np.std(x) * np.std(y)\n",
        "\n",
        "  res = abs(numer/deno)\n",
        "  print('delta_xy:', res)\n",
        "\n",
        "  # We are using a cutoff of 0.5 for positive correlation\n",
        "  # and -0.5 for negative correlation\n",
        "  # We output an acceptance or rejection accordingly\n",
        "  if res > 0.5:\n",
        "    print('Reject H0, These two datasets are positive linearly correlated.')\n",
        "  elif res<-0.5:\n",
        "    print('Reject H0, These two datasets are negative linearly correlated.')\n",
        "  else:\n",
        "    print('Accept H0, These two datasets are not linearly correlated.')\n"
      ],
      "metadata": {
        "id": "Zj3P09Nu9UBs"
      },
      "execution_count": 443,
      "outputs": []
    },
    {
      "cell_type": "code",
      "source": [
        "print('Relationship between house listing  price and weekly confirmed cases in Colorado for 10/20 to 05/21.')\n",
        "pearsonCorrelation(CO_case_weekly, CO_listing)\n",
        "print()\n",
        "print('Relationship between house listing  price and weekly confirmed cases in Arkansas for 10/20 to 05/21.')\n",
        "pearsonCorrelation(AR_case_weekly, AR_listing)\n",
        "print()\n",
        "print('Relationship between house listing  price and weekly death in Colorado for 10/20 to 05/21.')\n",
        "pearsonCorrelation(CO_death_weekly, CO_listing)\n",
        "print()\n",
        "print('Relationship between house listing  price and weekly death in Arkansas for 10/20 to 05/21.')\n",
        "pearsonCorrelation(AR_death_weekly, AR_listing)"
      ],
      "metadata": {
        "id": "WoBI7-wrF3e1",
        "colab": {
          "base_uri": "https://localhost:8080/"
        },
        "outputId": "e8049be8-f7bb-4239-8baa-c1c3cad232d2"
      },
      "execution_count": 444,
      "outputs": [
        {
          "output_type": "stream",
          "name": "stdout",
          "text": [
            "Relationship between house listing  price and weekly confirmed cases in Colorado for 10/20 to 05/21.\n",
            "delta_xy: 0.3047830584977027\n",
            "Accept H0, These two datasets are not linearly correlated.\n",
            "\n",
            "Relationship between house listing  price and weekly confirmed cases in Arkansas for 10/20 to 05/21.\n",
            "delta_xy: 0.7169612950502718\n",
            "Reject H0, These two datasets are positive linearly correlated.\n",
            "\n",
            "Relationship between house listing  price and weekly death in Colorado for 10/20 to 05/21.\n",
            "delta_xy: 0.16012151334470712\n",
            "Accept H0, These two datasets are not linearly correlated.\n",
            "\n",
            "Relationship between house listing  price and weekly death in Arkansas for 10/20 to 05/21.\n",
            "delta_xy: 0.7767019566742587\n",
            "Reject H0, These two datasets are positive linearly correlated.\n"
          ]
        }
      ]
    },
    {
      "cell_type": "markdown",
      "source": [
        "It applicable to apply Pearson's Correlation test, we used the plug-in estimator to perform the test. Based on the results from the Pearson's Correlation test, we conclude that median house listing data is positive linearly correlated with the weekly cases and deaths of Covid-19 in Arkansas. But for Colorado, it is not same case. The population and location of state can be one of the reason, which will need further investigation."
      ],
      "metadata": {
        "id": "E-fe-J1_f_F4"
      }
    },
    {
      "cell_type": "markdown",
      "source": [
        "## Inference 2\n",
        "We shall perform a two sample K-S test on the distribution of median home prices in the timeframe from 10/20 to 5/21 with weekly cases/deaths/vaccination datasets.\n",
        "\n",
        "$H_0$: The distribution of listing prices matches the selected distribution using the selected MME as a parameter.\n",
        "\n",
        "$H_1$: The distribution of listing prices does not match the selected distribution.\n"
      ],
      "metadata": {
        "id": "cnKsL_OW9P4O"
      }
    },
    {
      "cell_type": "code",
      "source": [
        "CO_listing_cases = np.divide(CO_listing, 100) \n",
        "CO_listing_deaths = np.divide(CO_listing, 10000)\n",
        "CO_listing_vac = np.divide(CO_listing, 1000)\n",
        "\n",
        "# K-S test using weekly cases \n",
        "print(\"CO K-S test scaled for cases\")\n",
        "KS_test_TwoSample(CO_case_weekly, CO_listing_cases)\n",
        "print() \n",
        "\n",
        "# K-S test using weekly deaths \n",
        "print(\"CO K-S test scaled for deaths\")\n",
        "KS_test_TwoSample(CO_death_weekly, CO_listing_deaths)\n",
        "print() \n",
        "\n",
        "# K-S test using weekly vaccinations\n",
        "print(\"CO K-S test scaled for vaccinations\")\n",
        "KS_test_TwoSample(CO_vac_weekly, CO_listing_vac)\n",
        "print() \n",
        "\n",
        "\n",
        "AR_listing_cases = np.divide(AR_listing, 100) \n",
        "AR_listing_deaths = np.divide(AR_listing, 10000)\n",
        "AR_listing_vac = np.divide(AR_listing, 1000)\n",
        "\n",
        "# K-S test using weekly cases\n",
        "print(\"AR K-S test scaled for cases\")\n",
        "KS_test_TwoSample(AR_case_weekly, AR_listing_cases)\n",
        "print() \n",
        "\n",
        "# K-S test using weekly deaths\n",
        "print(\"AR K-S test scaled for deaths\")\n",
        "KS_test_TwoSample(AR_death_weekly, AR_listing_deaths)\n",
        "print() \n",
        "\n",
        "\n",
        "# K-S test using weekly vaccination\n",
        "print(\"AR K-S test scaled for vaccinations\")\n",
        "KS_test_TwoSample(AR_vac_weekly, AR_listing_vac)\n",
        "print() \n"
      ],
      "metadata": {
        "id": "-__UYts7Saso",
        "outputId": "48600b45-72e0-4a6e-82f7-056fb2446994",
        "colab": {
          "base_uri": "https://localhost:8080/"
        }
      },
      "execution_count": 445,
      "outputs": [
        {
          "output_type": "stream",
          "name": "stdout",
          "text": [
            "CO K-S test scaled for cases\n",
            "The max d = 0.8285714285714285\n",
            "Reject Null Hypothesis.\n",
            "\n",
            "CO K-S test scaled for deaths\n",
            "The max d = 0.4857142857142857\n",
            "Reject Null Hypothesis.\n",
            "\n",
            "CO K-S test scaled for vaccinations\n",
            "The max d = 0.9583333333333334\n",
            "Reject Null Hypothesis.\n",
            "\n",
            "AR K-S test scaled for cases\n",
            "The max d = 0.5714285714285714\n",
            "Reject Null Hypothesis.\n",
            "\n",
            "AR K-S test scaled for deaths\n",
            "The max d = 0.8571428571428571\n",
            "Reject Null Hypothesis.\n",
            "\n",
            "AR K-S test scaled for vaccinations\n",
            "The max d = 0.9166666666666666\n",
            "Reject Null Hypothesis.\n",
            "\n"
          ]
        }
      ]
    },
    {
      "cell_type": "markdown",
      "source": [
        "###Inference 2 Conclusion:\n",
        "\n",
        "Based on these results, we see that none of the covid statistic distributions match up with the house listing distribution "
      ],
      "metadata": {
        "id": "dhbNOkF9GBe7"
      }
    },
    {
      "cell_type": "markdown",
      "source": [
        "## Inference 3"
      ],
      "metadata": {
        "id": "FvGMEUdh9RUB"
      }
    },
    {
      "cell_type": "markdown",
      "source": [
        "H0 -- Distribution are independent \n",
        "\n",
        "H1 -- Distribution are dependent"
      ],
      "metadata": {
        "id": "5IIfH0t8cgEL"
      }
    },
    {
      "cell_type": "code",
      "source": [
        "from scipy import stats\n",
        "def chi_sq_test(data,x,y):\n",
        "\n",
        "    #Actual observed count for each category\n",
        "    observed = data[[x,y]]\n",
        "    observed.loc['Sum_Col']= observed.sum(numeric_only=True, axis=0)\n",
        "    observed.loc[:,'Sum_Row'] = observed.sum(numeric_only=True, axis=1)\n",
        "\n",
        "    #Expected count based on distribution of the values of the corresponding category \n",
        "    expected = pd.DataFrame(columns=[x,y])\n",
        "\n",
        "\n",
        "  \n",
        "    for column in expected.columns:\n",
        "        for j in observed.index:\n",
        "            expected.loc[j,column] = (observed.loc[j,'Sum_Row'] * observed.loc['Sum_Col', column])/observed.loc['Sum_Col','Sum_Row']\n",
        "  \n",
        "    #Chi-squared statistic formula \n",
        "    chi_score = np.sum(np.square(np.array((observed.iloc[:-1,:-1] - expected.iloc[:-1,:])).flatten())/np.array(expected.iloc[:-1,:]).flatten())\n",
        "\n",
        "    print(f\"{x} VS {y}\")\n",
        "    print(chi_score)\n",
        "    \n",
        "    print(\"---------------------\")\n",
        "    \n",
        "\n",
        "    degrees_freedom =len(observed) - 2 # One of these rows is a sum row, so we subtract 2 instead of 1.\n",
        "\n",
        "    #Critcal value for 95% confidence level; df = (number of variable features - 1)*(number of rows - 1)\n",
        "    critical = stats.chi2.ppf(q = 0.95, df = degrees_freedom)\n",
        "    \n",
        "    print(\"Critical value\")\n",
        "    print(critical)\n",
        "    \n",
        "    p_value = 1 -stats.chi2.cdf(x = chi_score, df= degrees_freedom )\n",
        "    \n",
        "    print(\"P value\")\n",
        "    print(p_value)"
      ],
      "metadata": {
        "id": "in3A-QI2XqvE"
      },
      "execution_count": 446,
      "outputs": []
    },
    {
      "cell_type": "code",
      "source": [
        "CO_case_weekly_df = pd.DataFrame(CO_case_weekly)  \n",
        "CO_case_weekly_df.columns = ['Weekly_cases']"
      ],
      "metadata": {
        "id": "PZLyPIjE0stj"
      },
      "execution_count": 447,
      "outputs": []
    },
    {
      "cell_type": "code",
      "source": [
        "CO_listing_df = pd.DataFrame(CO_listing)   \n",
        "CO_listing_df.columns = ['Median_prices']"
      ],
      "metadata": {
        "id": "U1Mo40eNb_1U"
      },
      "execution_count": 448,
      "outputs": []
    },
    {
      "cell_type": "code",
      "source": [
        "CO_case_merge = CO_listing_df.join(CO_case_weekly_df)"
      ],
      "metadata": {
        "id": "V3_lIJwkb_9G"
      },
      "execution_count": 449,
      "outputs": []
    },
    {
      "cell_type": "code",
      "source": [
        "chi_sq_test(CO_case_merge, 'Median_prices', 'Weekly_cases')"
      ],
      "metadata": {
        "colab": {
          "base_uri": "https://localhost:8080/"
        },
        "id": "6vej2KktcAAD",
        "outputId": "aface23b-a3a1-4a7d-bba7-6cee7229f3e1"
      },
      "execution_count": 450,
      "outputs": [
        {
          "output_type": "stream",
          "name": "stdout",
          "text": [
            "Median_prices VS Weekly_cases\n",
            "76253.3202571155\n",
            "---------------------\n",
            "Critical value\n",
            "48.602367367294164\n",
            "P value\n",
            "0.0\n"
          ]
        }
      ]
    },
    {
      "cell_type": "markdown",
      "source": [
        "With the p-value < .05, Median prices and weekly cases distribution are dependent. Therefore, we reject H0."
      ],
      "metadata": {
        "id": "84ACxGqQcTIo"
      }
    },
    {
      "cell_type": "code",
      "source": [
        "CO_death_weekly_df = pd.DataFrame(CO_death_weekly)  \n",
        "CO_death_weekly_df.columns = ['Weekly_death']\n",
        "\n",
        "AR_case_weekly_df = pd.DataFrame(AR_case_weekly)  \n",
        "AR_case_weekly_df.columns = ['Weekly_cases']\n",
        "\n",
        "AR_death_weekly_df = pd.DataFrame(AR_death_weekly)  \n",
        "AR_death_weekly_df.columns = ['Weekly_death']\n",
        "\n",
        "AR_listing_df = pd.DataFrame(AR_listing)   \n",
        "AR_listing_df.columns = ['Median_prices']\n",
        "\n",
        "CO_vac_weekly_df = pd.DataFrame(CO_vac_weekly)  \n",
        "CO_vac_weekly_df.columns = ['Weekly_Administered']\n",
        "\n",
        "AR_vac_weekly_df = pd.DataFrame(AR_vac_weekly)  \n",
        "AR_vac_weekly_df.columns = ['Weekly_Administered']"
      ],
      "metadata": {
        "id": "6_wAfIiucLB7"
      },
      "execution_count": 451,
      "outputs": []
    },
    {
      "cell_type": "code",
      "source": [
        "\n",
        "CO_death_merge = CO_listing_df.join(CO_death_weekly_df)\n",
        "\n",
        "\n",
        "AR_case_merge = AR_listing_df.join(AR_case_weekly_df)\n",
        "\n",
        "\n",
        "AR_death_merge = AR_listing_df.join(AR_death_weekly_df)\n",
        "\n",
        "\n",
        "CO_vac_merge = CO_listing_df.join(CO_vac_weekly_df)\n",
        "\n",
        "\n",
        "AR_vac_merge = AR_listing_df.join(AR_vac_weekly_df)"
      ],
      "metadata": {
        "id": "yxoTyYyCcLEi"
      },
      "execution_count": 452,
      "outputs": []
    },
    {
      "cell_type": "code",
      "source": [
        "CO_vac_merge = CO_vac_merge.dropna()\n",
        "AR_vac_merge = AR_vac_merge.dropna()"
      ],
      "metadata": {
        "id": "S-v30U87fVLj"
      },
      "execution_count": 453,
      "outputs": []
    },
    {
      "cell_type": "code",
      "source": [
        "chi_sq_test(CO_death_merge, 'Median_prices', 'Weekly_death')"
      ],
      "metadata": {
        "colab": {
          "base_uri": "https://localhost:8080/"
        },
        "id": "uIkrVKyYfVQC",
        "outputId": "9b1ba7c7-fa71-4c3d-acb4-e2704105071a"
      },
      "execution_count": 454,
      "outputs": [
        {
          "output_type": "stream",
          "name": "stdout",
          "text": [
            "Median_prices VS Weekly_death\n",
            "596.9565061793479\n",
            "---------------------\n",
            "Critical value\n",
            "48.602367367294164\n",
            "P value\n",
            "0.0\n"
          ]
        }
      ]
    },
    {
      "cell_type": "code",
      "source": [
        "chi_sq_test(AR_case_merge, 'Median_prices', 'Weekly_cases')"
      ],
      "metadata": {
        "colab": {
          "base_uri": "https://localhost:8080/"
        },
        "id": "jSDF_Dx9fdYQ",
        "outputId": "6932003e-b00a-4aac-e83f-017e1a242d71"
      },
      "execution_count": 455,
      "outputs": [
        {
          "output_type": "stream",
          "name": "stdout",
          "text": [
            "Median_prices VS Weekly_cases\n",
            "102281.44119594814\n",
            "---------------------\n",
            "Critical value\n",
            "48.602367367294164\n",
            "P value\n",
            "0.0\n"
          ]
        }
      ]
    },
    {
      "cell_type": "code",
      "source": [
        "chi_sq_test(AR_death_merge, 'Median_prices', 'Weekly_death')"
      ],
      "metadata": {
        "colab": {
          "base_uri": "https://localhost:8080/"
        },
        "id": "0s_0VKImfda9",
        "outputId": "ec08bb79-a0cc-4a17-e4f1-83cb181c8d5b"
      },
      "execution_count": 456,
      "outputs": [
        {
          "output_type": "stream",
          "name": "stdout",
          "text": [
            "Median_prices VS Weekly_death\n",
            "1396.4543793964258\n",
            "---------------------\n",
            "Critical value\n",
            "48.602367367294164\n",
            "P value\n",
            "0.0\n"
          ]
        }
      ]
    },
    {
      "cell_type": "code",
      "source": [
        "chi_sq_test(CO_vac_merge, 'Median_prices', 'Weekly_Administered')"
      ],
      "metadata": {
        "colab": {
          "base_uri": "https://localhost:8080/"
        },
        "id": "zVzBYxIffddm",
        "outputId": "16b320cb-95a8-443e-bf4f-db618f3f1e94"
      },
      "execution_count": 457,
      "outputs": [
        {
          "output_type": "stream",
          "name": "stdout",
          "text": [
            "Median_prices VS Weekly_Administered\n",
            "682785.7563466032\n",
            "---------------------\n",
            "Critical value\n",
            "35.17246162690806\n",
            "P value\n",
            "0.0\n"
          ]
        }
      ]
    },
    {
      "cell_type": "code",
      "source": [
        "chi_sq_test(AR_vac_merge, 'Median_prices', 'Weekly_Administered')"
      ],
      "metadata": {
        "colab": {
          "base_uri": "https://localhost:8080/"
        },
        "id": "d5c9iwO_fdf4",
        "outputId": "e9512bd4-f211-4954-c0a2-4ded600176d2"
      },
      "execution_count": 458,
      "outputs": [
        {
          "output_type": "stream",
          "name": "stdout",
          "text": [
            "Median_prices VS Weekly_Administered\n",
            "397899.05080671783\n",
            "---------------------\n",
            "Critical value\n",
            "35.17246162690806\n",
            "P value\n",
            "0.0\n"
          ]
        }
      ]
    },
    {
      "cell_type": "markdown",
      "source": [
        "All the feature combinations are dependent. with chi-square test, we get p-value < .05 (actual p-value < .00001) therefore we reject the null hypothesis that the distributions are independent."
      ],
      "metadata": {
        "id": "46hy6bEAfloQ"
      }
    }
  ]
}